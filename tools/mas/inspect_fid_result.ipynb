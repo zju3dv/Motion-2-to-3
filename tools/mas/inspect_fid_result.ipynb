{
 "cells": [
  {
   "cell_type": "code",
   "execution_count": 1,
   "metadata": {},
   "outputs": [],
   "source": [
    "from hmr4d import os_chdir_to_proj_root\n",
    "\n",
    "os_chdir_to_proj_root()"
   ]
  },
  {
   "cell_type": "code",
   "execution_count": 2,
   "metadata": {},
   "outputs": [
    {
     "name": "stdout",
     "output_type": "stream",
     "text": [
      "dict_keys(['pred', 'gt', 'text', 'length'])\n"
     ]
    }
   ],
   "source": [
    "import torch\n",
    "import numpy as np\n",
    "from pathlib import Path\n",
    "from hmr4d.utils.wis3d_utils import make_wis3d, add_motion_as_lines\n",
    "from hmr4d.utils.net_utils import repeat_to_max_len\n",
    "from hmr4d.utils.hml3d.metric import calculate_activation_statistics_np, calculate_frechet_distance_np\n",
    "\n",
    "# Features\n",
    "gt = torch.load(\"./hmr4d/utils/hml3d/gt_stat.pth\")\n",
    "all_emb = torch.load(\"tmp_dump_fid.pt\", map_location=\"cpu\")\n",
    "\n",
    "# Motion\n",
    "wis3d = make_wis3d(name=\"inspect_fid\")\n",
    "saved_files = {p.stem: torch.load(p) for p in sorted(Path(\"outputs/saved_generation\").glob(\"*.pth\"))}\n",
    "print(saved_files[\"00000\"].keys())\n",
    "\n",
    "\n",
    "def update_saved_files_for_visualization(saved_files):\n",
    "    \"\"\"Make everything to 300 frames, with repeating last frames\"\"\"\n",
    "    for k, data in saved_files.items():\n",
    "        pred = data[\"pred\"]\n",
    "        gt = data[\"gt\"]\n",
    "        length = data[\"length\"]\n",
    "        # if not (pred.shape[0] == gt.shape[0] and pred.shape[0] == length):\n",
    "        #     print(f\"[{k}] pred {pred.shape}, gt {gt.shape}, length {length}\")\n",
    "        pred = repeat_to_max_len(pred[:length], 300, 0)\n",
    "        gt = repeat_to_max_len(gt[:length], 300, 0)\n",
    "        data[\"pred\"] = pred\n",
    "        data[\"gt\"] = gt\n",
    "\n",
    "\n",
    "update_saved_files_for_visualization(saved_files)"
   ]
  },
  {
   "cell_type": "code",
   "execution_count": 3,
   "metadata": {},
   "outputs": [
    {
     "name": "stdout",
     "output_type": "stream",
     "text": [
      "worst: [3033, 55, 559, 1761, 4078]\n",
      "best: [1184, 2938, 3808, 2306, 414]\n"
     ]
    }
   ],
   "source": [
    "#############################################\n",
    "from hmr4d.utils.eval.torch_fid import compute_stats, compute_fid\n",
    "\n",
    "# numpy implementation\n",
    "# mu, cov = calculate_activation_statistics_np(all_emb.numpy())\n",
    "# fid = calculate_frechet_distance_np(gt[\"mu\"], gt[\"cov\"], mu, cov)\n",
    "\n",
    "pred_emb = all_emb.clone().requires_grad_()  # (N, 512)\n",
    "gt_mu_ts = torch.from_numpy(gt[\"mu\"]).float()  # (512,)\n",
    "gt_cov_ts = torch.from_numpy(gt[\"cov\"]).float()  # (512, 512)\n",
    "\n",
    "mu, cov = compute_stats(pred_emb)\n",
    "fid = compute_fid(gt_mu_ts, gt_cov_ts, mu, cov)\n",
    "fid.backward()\n",
    "\n",
    "# print\n",
    "grad_abs_sum = pred_emb.grad.abs().sum(-1)\n",
    "grad_desc_order = torch.argsort(grad_abs_sum, descending=True).tolist()\n",
    "print(\"worst:\", grad_desc_order[:5])\n",
    "print(\"best:\", grad_desc_order[-5:])\n",
    "\n",
    "############################################"
   ]
  },
  {
   "cell_type": "markdown",
   "metadata": {},
   "source": [
    "### Draw"
   ]
  },
  {
   "cell_type": "code",
   "execution_count": 10,
   "metadata": {},
   "outputs": [
    {
     "name": "stdout",
     "output_type": "stream",
     "text": [
      "[00414] the person sat down in the chair.\n"
     ]
    }
   ],
   "source": [
    "# random choose a key\n",
    "all_keys = list(saved_files.keys())\n",
    "key = all_keys[np.random.randint(len(all_keys))]\n",
    "\n",
    "# key_number = 614\n",
    "key_number = 414\n",
    "key = f\"{key_number:05d}\"\n",
    "\n",
    "pred = saved_files[key][\"pred\"]\n",
    "gt = saved_files[key][\"gt\"]\n",
    "length = saved_files[key][\"length\"]\n",
    "text = saved_files[key][\"text\"]\n",
    "add_motion_as_lines(gt, wis3d, name=\"gt\", const_color=\"green\")\n",
    "add_motion_as_lines(pred, wis3d, name=\"pred\", const_color=\"blue\")\n",
    "print(f\"[{key}] {text}\")"
   ]
  },
  {
   "cell_type": "code",
   "execution_count": null,
   "metadata": {},
   "outputs": [],
   "source": []
  },
  {
   "cell_type": "markdown",
   "metadata": {},
   "source": [
    "### FID w.r.t number of inputs"
   ]
  },
  {
   "cell_type": "code",
   "execution_count": 3,
   "metadata": {},
   "outputs": [],
   "source": [
    "import torch\n",
    "import numpy as np\n",
    "from pathlib import Path\n",
    "from hmr4d.utils.wis3d_utils import make_wis3d, add_motion_as_lines\n",
    "from hmr4d.utils.net_utils import repeat_to_max_len\n",
    "from hmr4d.utils.hml3d.metric import (\n",
    "    calculate_activation_statistics_np,\n",
    "    calculate_frechet_distance_np,\n",
    ")\n",
    "\n",
    "gt = torch.load(\"./hmr4d/utils/hml3d/gt_stat.pth\")\n",
    "all_emb = torch.load(\"tmp_dump_fid.pt\")\n"
   ]
  },
  {
   "cell_type": "code",
   "execution_count": 16,
   "metadata": {},
   "outputs": [
    {
     "data": {
      "text/plain": [
       "<ErrorbarContainer object of 3 artists>"
      ]
     },
     "execution_count": 16,
     "metadata": {},
     "output_type": "execute_result"
    },
    {
     "data": {
      "image/png": "[encoded data removed]",
      "text/plain": [
       "<Figure size 640x480 with 1 Axes>"
      ]
     },
     "metadata": {},
     "output_type": "display_data"
    }
   ],
   "source": [
    "# use plt to draw the figure of std and mean\n",
    "import matplotlib.pyplot as plt\n",
    "\n",
    "N = 100\n",
    "\n",
    "sample_times = 10\n",
    "N_all = all_emb.shape[0]\n",
    "N_to_fid_mean = {}\n",
    "N_to_fid_std = {}\n",
    "\n",
    "for N in [100, 300, 400, 500, 700, 900]:\n",
    "    # get random indices of N\n",
    "    fids = []\n",
    "    for _ in range(sample_times):\n",
    "        indices = torch.randint(0, N_all, (N,))\n",
    "        mu, cov = calculate_activation_statistics_np(all_emb[indices].detach().cpu().numpy())\n",
    "        fid = calculate_frechet_distance_np(gt[\"mu\"], gt[\"cov\"], mu, cov)\n",
    "        fids.append(fid)\n",
    "    fids = np.array(fids)\n",
    "    N_to_fid_mean[N] = fids.mean()\n",
    "    N_to_fid_std[N] = fids.std()\n",
    "\n",
    "\n",
    "# 绘制带误差棒的图\n",
    "x = list(N_to_fid_mean.keys())\n",
    "y = list(N_to_fid_mean.values())\n",
    "yerr = list(N_to_fid_std.values())\n",
    "plt.errorbar(x, y, yerr=yerr, fmt=\"-o\", capsize=5, label=\"FID Mean ± Std\")"
   ]
  }
 ],
 "metadata": {
  "kernelspec": {
   "display_name": "m2d3d",
   "language": "python",
   "name": "python3"
  },
  "language_info": {
   "codemirror_mode": {
    "name": "ipython",
    "version": 3
   },
   "file_extension": ".py",
   "mimetype": "text/x-python",
   "name": "python",
   "nbconvert_exporter": "python",
   "pygments_lexer": "ipython3",
   "version": "3.8.19"
  }
 },
 "nbformat": 4,
 "nbformat_minor": 2
}
