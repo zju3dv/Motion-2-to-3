{
 "cells": [
  {
   "cell_type": "code",
   "execution_count": 1,
   "metadata": {},
   "outputs": [],
   "source": [
    "%load_ext autoreload\n",
    "%autoreload 2\n",
    "\n",
    "import os\n",
    "import numpy as np\n",
    "import torch\n",
    "import torch.nn.functional as F\n",
    "from pathlib import Path\n",
    "import json\n",
    "from tqdm import tqdm\n",
    "import matplotlib.pyplot as plt\n",
    "import imageio\n",
    "\n",
    "# Change working directory to project root\n",
    "os.chdir('../../')"
   ]
  },
  {
   "cell_type": "markdown",
   "metadata": {},
   "source": [
    "M3DP_BERTLIKE CFG"
   ]
  },
  {
   "cell_type": "code",
   "execution_count": 8,
   "metadata": {},
   "outputs": [
    {
     "data": {
      "text/plain": [
       "<matplotlib.legend.Legend at 0x7f301b8429a0>"
      ]
     },
     "execution_count": 8,
     "metadata": {},
     "output_type": "execute_result"
    },
    {
     "data": {
      "image/png": "[encoded data removed]",
      "text/plain": [
       "<Figure size 400x300 with 1 Axes>"
      ]
     },
     "metadata": {},
     "output_type": "display_data"
    }
   ],
   "source": [
    "x_cfg = [0, 2.5, 5., ]\n",
    "gmpjpe = [237, 269, 335]\n",
    "mpjpe = [96, 105, 123]\n",
    "\n",
    "plt.figure(figsize=(4, 3))\n",
    "plt.plot(x_cfg, gmpjpe, label=\"gmpjpe\")\n",
    "plt.legend()\n",
    "\n",
    "plt.plot(x_cfg, mpjpe, label=\"mpjpe\")\n",
    "plt.legend()\n",
    "\n",
    "# plt.ylim(0, 300)"
   ]
  },
  {
   "cell_type": "markdown",
   "metadata": {},
   "source": [
    "---\n",
    "Original GMD results:"
   ]
  },
  {
   "cell_type": "code",
   "execution_count": null,
   "metadata": {},
   "outputs": [],
   "source": [
    "x_legends = [\"False\", \"750\", \"500\", \"250\"]\n",
    "gmpjpe_to_plot = {\n",
    "    \"pretrained\": [669.5, 561.3, 515.9, 447.3],\n",
    "    \"pretrained_disable_clip\": [726.9, 640.5, 578.2, 495.5],\n",
    "    \"finetuned_unet\": [505.2, 203.2, 172.8, 162.2],\n",
    "    \"finetuned_unet_disable_clip\": [549.8, 192.9, 170.9, 155.6],\n",
    "}\n",
    "\n",
    "plt.figure(figsize=(4, 3))\n",
    "for key, value in gmpjpe_to_plot.items():\n",
    "    plt.plot(x_legends, value, label=key)\n",
    "    plt.legend()\n",
    "plt.ylim(0, 800)\n",
    "\n",
    "# y label as gmpjpe\n",
    "plt.ylabel(\"GMPJPE (mm)\")\n",
    "plt.xlabel(\"Inpainting from 1000 to {end frame}\")\n"
   ]
  },
  {
   "cell_type": "code",
   "execution_count": null,
   "metadata": {},
   "outputs": [],
   "source": [
    "mpjpe_to_plot = {\n",
    "    \"pretrained\": [344.8, 187.2, 172.5, 155.8],\n",
    "    \"pretrained_disable_clip\": [321.3, 201.2, 187.6, 170.2],\n",
    "    \"finetuned_unet\": [245.6, 104.3, 91.4, 86.6],\n",
    "    \"finetuned_unet_disable_clip\": [273.7, 101.7, 91.6, 85.3],\n",
    "}\n",
    "\n",
    "plt.figure(figsize=(4, 3))\n",
    "for key, value in mpjpe_to_plot.items():\n",
    "    plt.plot(x_legends, value, label=key)\n",
    "    plt.legend()\n",
    "plt.ylim(0, 800)\n",
    "\n",
    "# y label as gmpjpe\n",
    "plt.ylabel(\"MPJPE (mm)\")\n",
    "plt.xlabel(\"Inpainting from 1000 to {end frame}\")"
   ]
  },
  {
   "cell_type": "code",
   "execution_count": null,
   "metadata": {},
   "outputs": [],
   "source": []
  }
 ],
 "metadata": {
  "kernelspec": {
   "display_name": "hmr4d",
   "language": "python",
   "name": "python3"
  },
  "language_info": {
   "codemirror_mode": {
    "name": "ipython",
    "version": 3
   },
   "file_extension": ".py",
   "mimetype": "text/x-python",
   "name": "python",
   "nbconvert_exporter": "python",
   "pygments_lexer": "ipython3",
   "version": "3.8.18"
  }
 },
 "nbformat": 4,
 "nbformat_minor": 2
}
