{
 "cells": [
  {
   "cell_type": "code",
   "execution_count": 1,
   "metadata": {},
   "outputs": [],
   "source": [
    "%load_ext autoreload\n",
    "%autoreload 2\n",
    "\n",
    "import os\n",
    "import matplotlib.pyplot as plt\n",
    "\n",
    "# Change working directory to project root\n",
    "os.chdir('../../')\n",
    "\n",
    "import torch\n",
    "import cv2\n",
    "import numpy as np\n",
    "from pathlib import Path\n",
    "from tqdm import tqdm\n",
    "import json\n",
    "import imageio\n",
    "import decord\n",
    "from hmr4d.utils.wis3d_utils import make_wis3d, add_motion_as_lines\n",
    "from hmr4d.dataset.rich.rich_utils import get_w2az_sahmr, parse_seqname_info\n",
    "from hmr4d.utils.geo_transform import apply_T_on_points"
   ]
  },
  {
   "cell_type": "code",
   "execution_count": 2,
   "metadata": {},
   "outputs": [
    {
     "name": "stdout",
     "output_type": "stream",
     "text": [
      "smplx joint (full) shape: torch.Size([1, 127, 3])\n"
     ]
    }
   ],
   "source": [
    "from hmr4d.utils.smplx_utils import make_smplx\n",
    "smplx_model = make_smplx(\"rich-smplx\", gender=\"neutral\")\n",
    "smplx_output = smplx_model()\n",
    "print(\"smplx joint (full) shape:\", smplx_output.joints.shape)\n",
    "\n",
    "smplx_joints22 = smplx_output.joints[:, :22]\n",
    "smplx_verts = smplx_output.vertices  # (1, 10475, 3)"
   ]
  },
  {
   "cell_type": "code",
   "execution_count": 24,
   "metadata": {},
   "outputs": [
    {
     "name": "stdout",
     "output_type": "stream",
     "text": [
      "smplx2smpl shape: torch.Size([6890, 10475])\n",
      "smpl_verts_converted shape: torch.Size([1, 6890, 3])\n"
     ]
    }
   ],
   "source": [
    "# smplx2smpl_pkl = Path(\"/home/shenzehong/Code/WHAM/dataset/body_models/smplx2smpl.pkl\")\n",
    "# import joblib\n",
    "# smplx2smpl = torch.from_numpy(joblib.load(smplx2smpl_pkl)['matrix']).unsqueeze(0).float()\n",
    "\n",
    "smplx2smpl = torch.load(\"hmr4d/utils/body_model/smplx2smpl_sparse.pt\").to_dense()\n",
    "print(\"smplx2smpl shape:\", smplx2smpl.shape)\n",
    "\n",
    "smpl_verts_converted = torch.matmul(smplx2smpl, smplx_verts)  # (1, 6890, 3)\n",
    "print(\"smpl_verts_converted shape:\", smpl_verts_converted.shape)"
   ]
  },
  {
   "cell_type": "code",
   "execution_count": 26,
   "metadata": {},
   "outputs": [
    {
     "name": "stdout",
     "output_type": "stream",
     "text": [
      "torch.Size([24, 6890])\n"
     ]
    }
   ],
   "source": [
    "import pickle\n",
    "\n",
    "# smpl_struct = \"inputs/checkpoints/body_models/smpl/SMPL_NEUTRAL.pkl\"\n",
    "# with open(smpl_struct, \"rb\") as smpl_file:\n",
    "#     data_struct = pickle.load(smpl_file, encoding=\"latin1\")\n",
    "# smpl_J_regressor = torch.tensor(data_struct[\"J_regressor\"].todense())[None].float()  # (1, 24, 6890)\n",
    "smpl_J_regressor = torch.load(\"hmr4d/utils/body_model/smpl_neutral_J_regressor.pt\")\n",
    "print(smpl_J_regressor.shape)\n",
    "smpl_joints22 = torch.matmul(smpl_J_regressor, smpl_verts_converted)[:, :22]  # (1, 22, 3)"
   ]
  },
  {
   "cell_type": "code",
   "execution_count": 25,
   "metadata": {},
   "outputs": [
    {
     "data": {
      "text/plain": [
       "tensor(0.0438)"
      ]
     },
     "execution_count": 25,
     "metadata": {},
     "output_type": "execute_result"
    }
   ],
   "source": [
    "(smpl_joints22 - smplx_joints22).max()"
   ]
  },
  {
   "cell_type": "markdown",
   "metadata": {},
   "source": [
    "### 储存"
   ]
  },
  {
   "cell_type": "code",
   "execution_count": 11,
   "metadata": {},
   "outputs": [],
   "source": [
    "torch.save(smpl_J_regressor[0], \"smpl_neutral_J_regressor.pt\")"
   ]
  },
  {
   "cell_type": "code",
   "execution_count": 14,
   "metadata": {},
   "outputs": [],
   "source": [
    "smplx2smpl_ = smplx2smpl[0]\n",
    "\n",
    "# 获取非零元素的位置\n",
    "nonzero_indices = torch.nonzero(smplx2smpl_, as_tuple=False)\n",
    "\n",
    "# 获取这些位置的值\n",
    "nonzero_values = smplx2smpl_[nonzero_indices[:, 0], nonzero_indices[:, 1]]\n",
    "\n",
    "# 创建稀疏张量\n",
    "sparse_smplx2smpl = torch.sparse_coo_tensor(nonzero_indices.t(), nonzero_values, smplx2smpl_.size())\n",
    "torch.save(sparse_smplx2smpl, \"smplx2smpl_sparse.pt\")"
   ]
  },
  {
   "cell_type": "code",
   "execution_count": 15,
   "metadata": {},
   "outputs": [],
   "source": [
    "a = torch.load(\"smplx2smpl_sparse.pt\").to_dense()\n",
    "\n"
   ]
  },
  {
   "cell_type": "code",
   "execution_count": null,
   "metadata": {},
   "outputs": [],
   "source": []
  }
 ],
 "metadata": {
  "kernelspec": {
   "display_name": "hmr4d",
   "language": "python",
   "name": "python3"
  },
  "language_info": {
   "codemirror_mode": {
    "name": "ipython",
    "version": 3
   },
   "file_extension": ".py",
   "mimetype": "text/x-python",
   "name": "python",
   "nbconvert_exporter": "python",
   "pygments_lexer": "ipython3",
   "version": "3.8.18"
  }
 },
 "nbformat": 4,
 "nbformat_minor": 2
}
