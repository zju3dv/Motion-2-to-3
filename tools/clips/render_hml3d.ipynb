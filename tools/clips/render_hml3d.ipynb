{
 "cells": [
  {
   "cell_type": "code",
   "execution_count": 1,
   "metadata": {},
   "outputs": [],
   "source": [
    "from hmr4d import os_chdir_to_proj_root\n",
    "import os\n",
    "\n",
    "os_chdir_to_proj_root()\n",
    "os.environ[\"PYOPENGL_PLATFORM\"] = \"egl\""
   ]
  },
  {
   "cell_type": "code",
   "execution_count": 2,
   "metadata": {},
   "outputs": [
    {
     "name": "stderr",
     "output_type": "stream",
     "text": [
      "/tmp/ipykernel_3167621/2274608012.py:8: FutureWarning: You are using `torch.load` with `weights_only=False` (the current default value), which uses the default pickle module implicitly. It is possible to construct malicious pickle data which will execute arbitrary code during unpickling (See https://github.com/pytorch/pytorch/blob/main/SECURITY.md#untrusted-models for more details). In a future release, the default value for `weights_only` will be flipped to `True`. This limits the functions that could be executed during unpickling. Arbitrary objects will no longer be allowed to be loaded via this mode unless they are explicitly allowlisted by the user via `torch.serialization.add_safe_globals`. We recommend you start setting `weights_only=True` for any use case where you don't have full control of the loaded file. Please open an issue on GitHub for any issues related to this experimental feature.\n",
      "  joints3d = torch.load(\"inputs/hml3d/joints3d.pth\")\n"
     ]
    }
   ],
   "source": [
    "import torch\n",
    "from pathlib import Path\n",
    "from hmr4d.utils.wis3d_utils import convert_motion_as_line_mesh, draw_T_w2c\n",
    "import pyrender\n",
    "import trimesh\n",
    "\n",
    "# Load HML3D example data (motino + text)\n",
    "joints3d = torch.load(\"inputs/hml3d/joints3d.pth\", weights_only=False)"
   ]
  },
  {
   "cell_type": "code",
   "execution_count": 3,
   "metadata": {},
   "outputs": [],
   "source": [
    "from hmr4d.utils.geo.hmr_cam import create_camera_sensor\n",
    "\n",
    "# Data\n",
    "seq_name = \"000000\"\n",
    "j3d = joints3d[f\"{seq_name}.npy\"][\"joints3d\"]  # (T, 22, 3)\n",
    "\n",
    "# Render\n",
    "j3d_0offset = j3d - j3d[:, [0], :]\n",
    "vertices, faces, vertex_colors = convert_motion_as_line_mesh(j3d_0offset)"
   ]
  },
  {
   "cell_type": "code",
   "execution_count": 17,
   "metadata": {},
   "outputs": [
    {
     "name": "stderr",
     "output_type": "stream",
     "text": [
      "Rendering: 100%|██████████| 117/117 [00:02<00:00, 51.16it/s]\n"
     ]
    }
   ],
   "source": [
    "# Pytorch3d\n",
    "import cv2\n",
    "import numpy as np\n",
    "from hmr4d.utils.vis.renderer_utils import simple_render_mesh_background, simple_render_mesh\n",
    "from hmr4d.utils.video_io_utils import save_video\n",
    "\n",
    "\n",
    "if True:  # Pytorch3d doesn't work as requirements are too old (torch>=2.0)\n",
    "    H, W = 1024, 1024\n",
    "    K = create_camera_sensor(W, H, 24)[2]\n",
    "    focal_length = K[0, 0]  # 24mm lens\n",
    "\n",
    "    verts_render = vertices + torch.tensor([0.0, 0.0, 2.0])\n",
    "    verts_render = verts_render * torch.tensor([1, -1, 1])\n",
    "    render_dict = {\n",
    "        \"whf\": (W, H, focal_length),\n",
    "        \"faces\": faces,\n",
    "        \"verts\": verts_render,\n",
    "    }\n",
    "    images = simple_render_mesh(render_dict, VI=1)\n",
    "\n",
    "images = [cv2.resize(img, dsize=np.array([512, 512])) for img in images]\n",
    "\n",
    "save_video(images, \"tmp.mp4\")"
   ]
  },
  {
   "cell_type": "code",
   "execution_count": 60,
   "metadata": {},
   "outputs": [
    {
     "name": "stderr",
     "output_type": "stream",
     "text": [
      "100%|██████████| 117/117 [00:27<00:00,  4.25it/s]\n"
     ]
    }
   ],
   "source": [
    "import numpy as np\n",
    "import matplotlib.pyplot as plt\n",
    "from PIL import Image\n",
    "from hmr4d.utils.vis.pyrender_utils import get_campose_pyrender\n",
    "from tqdm import tqdm\n",
    "\n",
    "width, height = 512, 512\n",
    "\n",
    "rendered_imgs = []\n",
    "for i in tqdm(range(vertices.shape[0])):\n",
    "    scene = pyrender.Scene()\n",
    "\n",
    "    # Add Person\n",
    "    example_trimesh = trimesh.Trimesh(vertices=vertices[i], faces=faces)\n",
    "    mesh = pyrender.Mesh.from_trimesh(example_trimesh)\n",
    "    scene.add(mesh)\n",
    "\n",
    "    # Add Camera\n",
    "    cam = pyrender.PerspectiveCamera(yfov=(np.pi / 3.0))\n",
    "    p_from = np.array([0.0, 0.2, 2.0])\n",
    "    p_to = np.array([0.0, 0.0, 0.0])\n",
    "    gravity_vec = np.array([0.0, -1.0, 0.0])\n",
    "    cam_pose = get_campose_pyrender(p_from, p_to, gravity_vec)\n",
    "    scene.add(cam, pose=cam_pose)\n",
    "\n",
    "    # Add Light\n",
    "    light = pyrender.SpotLight(\n",
    "        color=np.array([0.8, 0.8, 0.8]), intensity=5.0, innerConeAngle=np.pi / 16.0, outerConeAngle=np.pi / 6.0\n",
    "    )\n",
    "    scene.add(light, pose=cam_pose)\n",
    "    color, depth = pyrender.OffscreenRenderer(width, height).render(scene)\n",
    "    # Image.fromarray(color)\n",
    "    rendered_imgs.append(color)\n",
    "\n",
    "if False:\n",
    "    from hmr4d.utils.wis3d_utils import make_wis3d, add_motion_as_lines\n",
    "\n",
    "    wis3d = make_wis3d(name=\"debug_pyrender\")\n",
    "    T_w2c = torch.from_numpy(cam_pose)[None].float()\n",
    "    T_w2c = T_w2c.inverse()\n",
    "    draw_T_w2c(wis3d, T_w2c, name=\"debug_pyrender\")\n",
    "    add_motion_as_lines(j3d_0offset[:1], wis3d, name=\"j3d\")"
   ]
  },
  {
   "cell_type": "code",
   "execution_count": 61,
   "metadata": {},
   "outputs": [],
   "source": [
    "from hmr4d.utils.video_io_utils import save_video\n",
    "\n",
    "save_video(rendered_imgs, \"tmp.mp4\")"
   ]
  },
  {
   "cell_type": "code",
   "execution_count": 33,
   "metadata": {},
   "outputs": [],
   "source": []
  }
 ],
 "metadata": {
  "kernelspec": {
   "display_name": "m2d3d",
   "language": "python",
   "name": "python3"
  },
  "language_info": {
   "codemirror_mode": {
    "name": "ipython",
    "version": 3
   },
   "file_extension": ".py",
   "mimetype": "text/x-python",
   "name": "python",
   "nbconvert_exporter": "python",
   "pygments_lexer": "ipython3",
   "version": "3.10.15"
  }
 },
 "nbformat": 4,
 "nbformat_minor": 2
}
