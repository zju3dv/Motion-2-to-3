{
 "cells": [
  {
   "cell_type": "code",
   "execution_count": 1,
   "metadata": {},
   "outputs": [],
   "source": [
    "from hmr4d import os_chdir_to_proj_root\n",
    "\n",
    "os_chdir_to_proj_root()"
   ]
  },
  {
   "cell_type": "code",
   "execution_count": 2,
   "metadata": {},
   "outputs": [],
   "source": [
    "import time\n",
    "import torch\n",
    "from transformers import CLIPProcessor, CLIPModel\n",
    "\n",
    "start = time.time()\n",
    "model = CLIPModel.from_pretrained(\"inputs/checkpoints/huggingface/clip-vit-base-patch32\")\n",
    "processor = CLIPProcessor.from_pretrained(\"inputs/checkpoints/huggingface/clip-vit-base-patch32\")"
   ]
  },
  {
   "cell_type": "code",
   "execution_count": 3,
   "metadata": {},
   "outputs": [
    {
     "name": "stdout",
     "output_type": "stream",
     "text": [
      "video_np.shape: (117, 512, 512, 3)\n",
      "line: a man kicks something or someone with his left leg.\n"
     ]
    }
   ],
   "source": [
    "from hmr4d.utils.video_io_utils import read_video_np\n",
    "from pathlib import Path\n",
    "\n",
    "text_folder = Path(\"inputs/hml3d/texts\")\n",
    "video_folder = Path(\"\")\n",
    "seq_name = \"000000\"\n",
    "\n",
    "# Load text\n",
    "txt_file = text_folder / f\"{seq_name}.txt\"\n",
    "lines = txt_file.read_text().splitlines()\n",
    "lines = [line.split(\"#\")[0] for line in lines]\n",
    "line = lines[0]\n",
    "\n",
    "# Load Video\n",
    "video_np = read_video_np(video_folder / f\"{seq_name}.mp4\")  # (F, H, W, 3)\n",
    "\n",
    "# print info\n",
    "print(f\"video_np.shape: {video_np.shape}\")\n",
    "print(f\"line: {line}\")"
   ]
  },
  {
   "cell_type": "code",
   "execution_count": 4,
   "metadata": {},
   "outputs": [
    {
     "name": "stdout",
     "output_type": "stream",
     "text": [
      "tensor(24.4217)\n"
     ]
    }
   ],
   "source": [
    "with torch.no_grad():\n",
    "    # process all frames\n",
    "    inputs = processor(text=[line], images=video_np, return_tensors=\"pt\", padding=True)\n",
    "    outputs = model(**inputs)\n",
    "\n",
    "    # mean over all frames\n",
    "    logits_per_image = (outputs.logits_per_image).mean()  # this is the image-text similarity score\n",
    "    print(logits_per_image)"
   ]
  },
  {
   "cell_type": "code",
   "execution_count": null,
   "metadata": {},
   "outputs": [],
   "source": []
  }
 ],
 "metadata": {
  "kernelspec": {
   "display_name": "m2d3d",
   "language": "python",
   "name": "python3"
  },
  "language_info": {
   "codemirror_mode": {
    "name": "ipython",
    "version": 3
   },
   "file_extension": ".py",
   "mimetype": "text/x-python",
   "name": "python",
   "nbconvert_exporter": "python",
   "pygments_lexer": "ipython3",
   "version": "3.8.19"
  }
 },
 "nbformat": 4,
 "nbformat_minor": 2
}
