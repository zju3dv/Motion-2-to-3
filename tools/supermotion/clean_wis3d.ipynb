{
 "cells": [
  {
   "cell_type": "code",
   "execution_count": 1,
   "metadata": {},
   "outputs": [],
   "source": [
    "# Change working directory to project root\n",
    "import os\n",
    "os.chdir('../../')\n",
    "from pathlib import Path"
   ]
  },
  {
   "cell_type": "code",
   "execution_count": 2,
   "metadata": {},
   "outputs": [
    {
     "name": "stdout",
     "output_type": "stream",
     "text": [
      "31182\n"
     ]
    }
   ],
   "source": [
    "wis3d_dir = Path(\"outputs/wis3d\")\n",
    "# clean_targets = [\"pred_gp\", \"pred_gp_root_first\", \"prior3d\"]\n",
    "clean_targets = [\"cam-root-line\"]\n",
    "all_json = list(wis3d_dir.glob(\"**/*.json\"))\n",
    "print(len(all_json))\n",
    "for p in all_json:\n",
    "    if p.stem in clean_targets:\n",
    "        p.unlink()"
   ]
  },
  {
   "cell_type": "code",
   "execution_count": null,
   "metadata": {},
   "outputs": [],
   "source": []
  },
  {
   "cell_type": "code",
   "execution_count": 2,
   "metadata": {},
   "outputs": [
    {
     "name": "stdout",
     "output_type": "stream",
     "text": [
      "1100\n"
     ]
    }
   ],
   "source": [
    "wis3d_dir = Path(\"outputs/wis3d_debug_seq\")\n",
    "rename_target = {\"pred_motion_full_gtcam_gtp2d\": \"prior3d\"}\n",
    "all_json = list(wis3d_dir.glob(\"**/*.json\"))\n",
    "print(len(all_json))\n",
    "\n",
    "for p in all_json:\n",
    "    if p.stem in rename_target:\n",
    "        p.rename(p.parent / (rename_target[p.stem] + \".json\"))"
   ]
  },
  {
   "cell_type": "code",
   "execution_count": null,
   "metadata": {},
   "outputs": [],
   "source": []
  }
 ],
 "metadata": {
  "kernelspec": {
   "display_name": "hmr4d",
   "language": "python",
   "name": "python3"
  },
  "language_info": {
   "codemirror_mode": {
    "name": "ipython",
    "version": 3
   },
   "file_extension": ".py",
   "mimetype": "text/x-python",
   "name": "python",
   "nbconvert_exporter": "python",
   "pygments_lexer": "ipython3",
   "version": "3.8.18"
  }
 },
 "nbformat": 4,
 "nbformat_minor": 2
}
