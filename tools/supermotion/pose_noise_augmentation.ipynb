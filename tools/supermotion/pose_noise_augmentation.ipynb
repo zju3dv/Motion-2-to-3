{
 "cells": [
  {
   "cell_type": "code",
   "execution_count": null,
   "metadata": {},
   "outputs": [],
   "source": [
    "%load_ext autoreload\n",
    "%autoreload 2\n",
    "\n",
    "import os\n",
    "import matplotlib.pyplot as plt\n",
    "\n",
    "# Change working directory to project root\n",
    "os.chdir('../../')\n",
    "\n",
    "import torch\n",
    "import numpy as np\n",
    "from pathlib import Path\n",
    "from tqdm import tqdm\n",
    "import json\n",
    "import imageio\n",
    "from hmr4d.utils.wis3d_utils import make_wis3d\n",
    "from hmr4d.utils.smplx_utils import make_smplx\n",
    "\n",
    "from hmr4d.utils.geo_transform import apply_T_on_points\n",
    "from pytorch3d.transforms import axis_angle_to_matrix, matrix_to_axis_angle, matrix_to_rotation_6d"
   ]
  },
  {
   "cell_type": "code",
   "execution_count": null,
   "metadata": {},
   "outputs": [],
   "source": [
    "from hmr4d.dataset.rich.rich_smpl_test import RichSmplFullSeqDataset\n",
    "dataset = RichSmplFullSeqDataset(vid_presets=None)\n",
    "wis3d = make_wis3d(name='debug-noise-aug')"
   ]
  },
  {
   "cell_type": "code",
   "execution_count": null,
   "metadata": {},
   "outputs": [],
   "source": [
    "data = dataset[0]\n",
    "gender = data[\"gender\"]\n",
    "\n",
    "smplx_model = dataset.rich_smplx[gender]\n",
    "faces = smplx_model.bm.faces"
   ]
  },
  {
   "cell_type": "code",
   "execution_count": null,
   "metadata": {},
   "outputs": [],
   "source": [
    "# GT\n",
    "smplx_out = smplx_model(body_pose=data[\"gt_smpl_params\"][\"body_pose\"])\n",
    "seq_length = len(smplx_out.vertices)\n",
    "for i in range(seq_length):\n",
    "    wis3d.set_scene_id(i)\n",
    "    wis3d.add_mesh(vertices=smplx_out.vertices[i], faces=faces, name=\"gt-smplx\")"
   ]
  },
  {
   "cell_type": "code",
   "execution_count": null,
   "metadata": {},
   "outputs": [],
   "source": [
    "# CLIFF\n",
    "smplx_out = smplx_model(body_pose=data[\"obs_smpl_params\"][\"body_pose\"])\n",
    "seq_length = len(smplx_out.vertices)\n",
    "for i in range(seq_length):\n",
    "    wis3d.set_scene_id(i)\n",
    "    wis3d.add_mesh(vertices=smplx_out.vertices[i], faces=faces, name=\"obs-smplx\")"
   ]
  },
  {
   "cell_type": "code",
   "execution_count": null,
   "metadata": {},
   "outputs": [],
   "source": [
    "gt = data[\"gt_smpl_params\"][\"body_pose\"].reshape(-1, 21, 3)\n",
    "obs = data[\"obs_smpl_params\"][\"body_pose\"].reshape(-1, 21, 3)\n",
    "\n",
    "gt_rotmat = axis_angle_to_matrix(gt)  # (L, J, 3)\n",
    "obs_rotmat = axis_angle_to_matrix(obs)  # (L, J, 3)\n",
    "# diff_rotmat = obs_rotmat @ gt_rotmat.transpose(-1, -2)\n",
    "diff_rotmat = gt_rotmat.transpose(-1, -2) @ obs_rotmat\n",
    "\n",
    "diff_aa = matrix_to_axis_angle(diff_rotmat)  # (L, J, 3)\n",
    "diff_unit_axis = diff_aa / (torch.norm(diff_aa, dim=-1, keepdim=True) + 1e-6)\n",
    "diff_unit_angle = torch.norm(diff_aa, dim=-1, keepdim=True)"
   ]
  },
  {
   "cell_type": "code",
   "execution_count": null,
   "metadata": {},
   "outputs": [],
   "source": [
    "from hmr4d.utils.geo.augment_noisy_pose import gaussian_augment\n",
    "\n",
    "std_angle = 10\n",
    "std_angle = [10] * 15 + [20] * 6\n",
    "noisy_gt = gaussian_augment(gt, std_angle=std_angle, to_R=True)[2]\n",
    "\n",
    "# GT + noisy\n",
    "smplx_out = smplx_model(body_pose=noisy_gt)\n",
    "seq_length = len(smplx_out.vertices)\n",
    "for i in range(seq_length):\n",
    "    wis3d.set_scene_id(i)\n",
    "    wis3d.add_mesh(vertices=smplx_out.vertices[i], faces=faces, name=\"gt+noise-smplx\")"
   ]
  },
  {
   "cell_type": "markdown",
   "metadata": {},
   "source": [
    "### Draw Statistic"
   ]
  },
  {
   "cell_type": "code",
   "execution_count": null,
   "metadata": {},
   "outputs": [],
   "source": [
    "unit_axis = []\n",
    "unit_angle = []\n",
    "\n",
    "for idx in tqdm(range(len(dataset))):\n",
    "    data = dataset[idx]\n",
    "\n",
    "    gt = data[\"gt_smpl_params\"][\"body_pose\"].reshape(-1, 21, 3)\n",
    "    obs = data[\"obs_smpl_params\"][\"body_pose\"].reshape(-1, 21, 3)\n",
    "\n",
    "    gt_rotmat = axis_angle_to_matrix(gt)  # (L, J, 3)\n",
    "    obs_rotmat = axis_angle_to_matrix(obs)  # (L, J, 3)\n",
    "    # diff_rotmat = obs_rotmat @ gt_rotmat.transpose(-1, -2)\n",
    "    diff_rotmat = gt_rotmat.transpose(-1, -2) @ obs_rotmat\n",
    "\n",
    "    diff_aa = matrix_to_axis_angle(diff_rotmat)  # (L, J, 3)\n",
    "    diff_unit_axis = diff_aa / (torch.norm(diff_aa, dim=-1, keepdim=True) + 1e-6)\n",
    "    diff_unit_angle = torch.norm(diff_aa, dim=-1, keepdim=True)\n",
    "\n",
    "    unit_axis.append(diff_unit_axis)\n",
    "    unit_angle.append(diff_unit_angle)\n",
    "\n",
    "unit_axis = torch.cat(unit_axis, dim=0)\n",
    "unit_angle = torch.cat(unit_angle, dim=0)"
   ]
  },
  {
   "cell_type": "code",
   "execution_count": null,
   "metadata": {},
   "outputs": [],
   "source": [
    "plt.rc(\"font\", size=8)\n",
    "plt.figure(figsize=(10, 5))  # Adjust the size of the figure as needed\n",
    "for j in range(21):\n",
    "    plt.subplot(3, 7, j + 1)  # Create a subplot in a 5x5 grid\n",
    "    plt.hist(diff_unit_angle[:, j].numpy(), bins=30, alpha=0.75)\n",
    "    plt.xlim([0, np.pi / 2])\n",
    "    plt.ylim([0, 150])\n",
    "    plt.title(f\"J-{j+1}\", fontsize=7)\n",
    "plt.tight_layout()  # Adjust the layout so that the subplots do not overlap\n",
    "plt.show()"
   ]
  },
  {
   "cell_type": "code",
   "execution_count": null,
   "metadata": {},
   "outputs": [],
   "source": [
    "plt.rc(\"font\", size=8)\n",
    "fig = plt.figure(figsize=(10, 5))  # Adjust the size of the figure as needed\n",
    "for j in range(21):\n",
    "    ax = fig.add_subplot(3, 7, j + 1, projection='3d')  # Create a subplot in a 3x7 grid\n",
    "    ax.scatter(diff_unit_axis[:, j, 0].numpy(), diff_unit_axis[:, j, 1].numpy(), diff_unit_axis[:, j, 2].numpy())\n",
    "    ax.set_title(f\"J-{j+1}\", fontsize=8)\n",
    "plt.tight_layout()  # Adjust the layout so that the subplots do not overlap\n",
    "plt.show()"
   ]
  },
  {
   "cell_type": "code",
   "execution_count": null,
   "metadata": {},
   "outputs": [],
   "source": []
  },
  {
   "cell_type": "code",
   "execution_count": null,
   "metadata": {},
   "outputs": [],
   "source": []
  }
 ],
 "metadata": {
  "kernelspec": {
   "display_name": "hmr4d",
   "language": "python",
   "name": "python3"
  },
  "language_info": {
   "codemirror_mode": {
    "name": "ipython",
    "version": 3
   },
   "file_extension": ".py",
   "mimetype": "text/x-python",
   "name": "python",
   "nbconvert_exporter": "python",
   "pygments_lexer": "ipython3",
   "version": "3.8.18"
  }
 },
 "nbformat": 4,
 "nbformat_minor": 2
}
