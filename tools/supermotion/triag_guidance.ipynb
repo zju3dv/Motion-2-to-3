{
 "cells": [
  {
   "cell_type": "code",
   "execution_count": 1,
   "metadata": {},
   "outputs": [],
   "source": [
    "%load_ext autoreload\n",
    "%autoreload 2\n",
    "\n",
    "import os\n",
    "import matplotlib.pyplot as plt\n",
    "\n",
    "# Change working directory to project root\n",
    "os.chdir('../../')\n",
    "\n",
    "import torch\n",
    "import numpy as np\n",
    "from pathlib import Path\n",
    "from tqdm import tqdm\n",
    "import json\n",
    "import imageio\n",
    "from hmr4d.utils.wis3d_utils import make_wis3d, add_motion_as_lines, get_const_colors\n",
    "from hmr4d.dataset.rich.rich_utils import get_w2az_sahmr, parse_seqname_info\n",
    "from hmr4d.utils.geo_transform import apply_T_on_points"
   ]
  },
  {
   "cell_type": "code",
   "execution_count": 2,
   "metadata": {},
   "outputs": [
    {
     "name": "stdout",
     "output_type": "stream",
     "text": [
      "dict_keys(['pred_ayfz_motion', 'w_cam_p2d_ray', 'T_ayfz2c', 'obs_c_p2d', 'length', 'meta', 'gt_ayfz_motion'])\n"
     ]
    }
   ],
   "source": [
    "info = torch.load(\"info.pt\")\n",
    "print(info.keys())\n",
    "wis3d_dir = \"outputs/wis3d_triag\"\n",
    "mid_logged = {}"
   ]
  },
  {
   "cell_type": "code",
   "execution_count": 3,
   "metadata": {},
   "outputs": [],
   "source": [
    "# Let's draw the same thing as we do in the callback to see the initialization\n",
    "B = len(info[\"meta\"])\n",
    "meta = info[\"meta\"]\n",
    "gt_ayfz_motion = info[\"gt_ayfz_motion\"]\n",
    "pred_ayfz_motion = info[\"pred_ayfz_motion\"][:, 0]\n",
    "\n",
    "for b in range(B):\n",
    "    mid = meta[b][0].replace(\"/\", \"-\")\n",
    "    if mid not in mid_logged:\n",
    "        mid_logged[mid] = make_wis3d(output_dir=wis3d_dir, name=mid)\n",
    "    wis3d = mid_logged[mid]\n",
    "\n",
    "    start, end = meta[b][1]\n",
    "    l = end - start\n",
    "    pred = pred_ayfz_motion[b, :l]\n",
    "    gt = gt_ayfz_motion[b, :l]\n",
    "\n",
    "    add_motion_as_lines(gt, wis3d, name=\"gt_ayfz_motion\", const_color=\"green\", offset=start)\n",
    "    add_motion_as_lines(pred, wis3d, name=\"pred\", offset=start)\n",
    "\n",
    "    se_lines = info[\"w_cam_p2d_ray\"][b, :l]\n",
    "    color = get_const_colors(\"orange\", (se_lines.size(-2),))[:, :3] * 255\n",
    "    for f in range(l):\n",
    "        wis3d.set_scene_id(f + start)\n",
    "        wis3d.add_lines(se_lines[f, 0], se_lines[f, 1], color, name=\"cam-p2d-ray\")"
   ]
  },
  {
   "cell_type": "code",
   "execution_count": 20,
   "metadata": {},
   "outputs": [
    {
     "name": "stdout",
     "output_type": "stream",
     "text": [
      "0 loss: 0.13491854071617126\n",
      "10 loss: 0.07375528663396835\n",
      "20 loss: 0.048857640475034714\n",
      "30 loss: 0.03808439150452614\n",
      "40 loss: 0.03326497599482536\n",
      "50 loss: 0.02977130189538002\n",
      "60 loss: 0.027103140950202942\n",
      "70 loss: 0.02517838403582573\n",
      "80 loss: 0.023773152381181717\n",
      "90 loss: 0.022707728669047356\n"
     ]
    }
   ],
   "source": [
    "from einops import einsum, rearrange\n",
    "\n",
    "\n",
    "def R_from_wy(w):\n",
    "    \"\"\"Compute R from w, which is the rotation of y axis\"\"\"\n",
    "    zeros = torch.zeros_like(w)\n",
    "    ones = torch.ones_like(w)\n",
    "    R = torch.stack([torch.cos(w), zeros, torch.sin(w), zeros, ones, zeros, -torch.sin(w), zeros, torch.cos(w)], -1)\n",
    "    R = R.reshape(*R.shape[:-1], 3, 3)\n",
    "    return R\n",
    "\n",
    "\n",
    "def update_pred_with_wst(pred, w, s, t):\n",
    "    # Rotation matrix along y axis. because we trust our 3D prior for gravity direction\n",
    "    R = R_from_wy(w)  # (B, L, 3, 3)\n",
    "\n",
    "    # Use local coordinate, and we do not touch y-value. because we trust our 3D prior\n",
    "    offset_x0z = pred[..., [0], :].clone()  # (B, L, 1, 3)\n",
    "    offset_x0z[..., 1] = 0\n",
    "\n",
    "    # pred_update (B, L, J, 3)\n",
    "    pred_update = einsum(pred - offset_x0z, R, \"b l n c, b l d c -> b l n d\")  # rotate\n",
    "    pred_update = pred_update * s[:, :, None, None]  # scale\n",
    "    pred_update = pred_update + t + offset_x0z  # translate\n",
    "    return pred_update\n",
    "\n",
    "\n",
    "def find_wst_transform(pred, T_ayfz2c, obs_c_p2d, length, lr=0.01, max_iter=100):\n",
    "    \"\"\"(B, L, J, 3), (B, 1/L, 4, 4), (B, L, J, 2), (B)\"\"\"\n",
    "    B, max_L, J = pred.shape[:3]\n",
    "    assert len(pred.shape) == len(T_ayfz2c.shape) == len(obs_c_p2d.shape) == 4\n",
    "\n",
    "    # parameters to optimize\n",
    "    w = torch.zeros(B, max_L).requires_grad_()\n",
    "    s = torch.ones(B, max_L).requires_grad_()\n",
    "    tx = torch.zeros(B, max_L).requires_grad_()\n",
    "    tz = torch.zeros(B, max_L).requires_grad_()\n",
    "    optimizer = torch.optim.Adam([w, s, tx, tz], lr=lr)\n",
    "    length_mask = torch.arange(max_L, device=pred.device) < length.reshape(B, 1)\n",
    "\n",
    "    for i in range(max_iter):\n",
    "        t = torch.stack([tx, torch.zeros_like(tx), tz], -1)[:, :, None, :]  # (B, L, 1, 3)\n",
    "        pred_update = update_pred_with_wst(pred, w, s, t)  # (B, L, J, 3)\n",
    "\n",
    "        # project to image plane\n",
    "        c_pred_update = apply_T_on_points(pred_update, T_ayfz2c)  # (B, L, J, 3)\n",
    "        c_pred2d_update = c_pred_update[..., :2] / c_pred_update[..., 2:]  # (B, L, J, 2)\n",
    "\n",
    "        error = (c_pred2d_update - obs_c_p2d).pow(2).sum((-1, -2))  # (B, L)\n",
    "        loss = error[length_mask].mean()\n",
    "\n",
    "        # Add some regularization\n",
    "        # s should be close to 1\n",
    "        loss_s = (s - 1).pow(2)[length_mask].mean()\n",
    "\n",
    "        # w and t should not change too much\n",
    "        loss_w = (w[:, 1:] - w[:, :-1]).pow(2)[length_mask[:, 1:]].mean()\n",
    "        loss_tx = (tx[:, 1:] - tx[:, :-1]).pow(2)[length_mask[:, 1:]].mean()\n",
    "        loss_tz = (tz[:, 1:] - tz[:, :-1]).pow(2)[length_mask[:, 1:]].mean()\n",
    "\n",
    "        loss += loss_s + loss_w + loss_tx + loss_tz\n",
    "\n",
    "        optimizer.zero_grad()\n",
    "        loss.backward()\n",
    "        optimizer.step()\n",
    "\n",
    "        # if i % 10 == 0:\n",
    "        #     print(f\"{i} loss: {loss.item()}\")\n",
    "\n",
    "    t = torch.stack([tx, torch.zeros_like(tx), tz], -1)[:, :, None, :]  # (B, L, 1, 3)\n",
    "    return w.detach(), s.detach(), t.detach()\n",
    "\n",
    "\n",
    "pred_ayfz_motion = info[\"pred_ayfz_motion\"][:, 0]  # (B, L, J, 3)\n",
    "T_ayfz2c = info[\"T_ayfz2c\"][:, None]  # (B, 1, 4, 4)\n",
    "obs_c_p2d = info[\"obs_c_p2d\"]  # (B, L, J, 2)\n",
    "length = info[\"length\"]  # (B)\n",
    "w, s, t = find_wst_transform(pred_ayfz_motion, T_ayfz2c, obs_c_p2d, length)\n",
    "\n",
    "pred_ayfz_motion_update = update_pred_with_wst(pred_ayfz_motion, w, s, t)"
   ]
  },
  {
   "cell_type": "code",
   "execution_count": 21,
   "metadata": {},
   "outputs": [],
   "source": [
    "# Add  visualization\n",
    "\n",
    "for b in range(B):\n",
    "    mid = meta[b][0].replace(\"/\", \"-\")\n",
    "    if mid not in mid_logged:\n",
    "        mid_logged[mid] = make_wis3d(output_dir=wis3d_dir, name=mid)\n",
    "    wis3d = mid_logged[mid]\n",
    "\n",
    "    start, end = meta[b][1]\n",
    "    l = end - start\n",
    "    # pred = pred_ayfz_motion[b, :l]\n",
    "    # gt = gt_ayfz_motion[b, :l]\n",
    "    pred_update = pred_ayfz_motion_update[b, :l]\n",
    "\n",
    "    add_motion_as_lines(pred_update, wis3d, name=\"pred_update_wreg\", offset=start)"
   ]
  },
  {
   "cell_type": "code",
   "execution_count": null,
   "metadata": {},
   "outputs": [],
   "source": []
  },
  {
   "cell_type": "markdown",
   "metadata": {},
   "source": [
    "### Focus on 1 data\n",
    "\n",
    "test-Gym_010_pushup1-cam_03 442"
   ]
  },
  {
   "cell_type": "code",
   "execution_count": 5,
   "metadata": {},
   "outputs": [],
   "source": [
    "for b in range(B):\n",
    "    mid = meta[b][0].replace(\"/\", \"-\")\n",
    "    if mid == \"test-Gym_010_pushup1-cam_03\":\n",
    "        start, end = meta[b][1]\n",
    "        if start == 300:\n",
    "            break       "
   ]
  },
  {
   "cell_type": "code",
   "execution_count": null,
   "metadata": {},
   "outputs": [],
   "source": []
  },
  {
   "cell_type": "code",
   "execution_count": null,
   "metadata": {},
   "outputs": [],
   "source": []
  }
 ],
 "metadata": {
  "kernelspec": {
   "display_name": "hmr4d",
   "language": "python",
   "name": "python3"
  },
  "language_info": {
   "codemirror_mode": {
    "name": "ipython",
    "version": 3
   },
   "file_extension": ".py",
   "mimetype": "text/x-python",
   "name": "python",
   "nbconvert_exporter": "python",
   "pygments_lexer": "ipython3",
   "version": "3.8.18"
  }
 },
 "nbformat": 4,
 "nbformat_minor": 2
}
