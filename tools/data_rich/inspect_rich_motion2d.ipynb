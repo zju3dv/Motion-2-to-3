{
 "cells": [
  {
   "cell_type": "code",
   "execution_count": 1,
   "metadata": {},
   "outputs": [],
   "source": [
    "%load_ext autoreload\n",
    "%autoreload 2\n",
    "\n",
    "import os\n",
    "import matplotlib.pyplot as plt\n",
    "\n",
    "# Change working directory to project root\n",
    "os.chdir('../../')\n",
    "\n",
    "import torch\n",
    "import numpy as np\n",
    "from pathlib import Path\n",
    "from tqdm import tqdm\n",
    "import json\n",
    "import imageio\n",
    "from hmr4d.utils.wis3d_utils import make_wis3d\n",
    "from hmr4d.utils.wis3d_utils import add_joints22_motion_as_lines\n",
    "from hmr4d.dataset.rich.rich_utils import get_w2az_sahmr, parse_seqname_info\n",
    "from hmr4d.utils.geo_transform import apply_T_on_points"
   ]
  },
  {
   "cell_type": "markdown",
   "metadata": {},
   "source": [
    "### Compute mean and std"
   ]
  },
  {
   "cell_type": "code",
   "execution_count": 2,
   "metadata": {},
   "outputs": [],
   "source": [
    "from omegaconf import OmegaConf\n",
    "from torch.utils.data import DataLoader, ConcatDataset\n",
    "from hmr4d.dataset.rich.rich_motion2d import Dataset\n",
    "yaml_file = \"hmr4d/configs/data/motion2d/rich_motion2d.yaml\"\n",
    "data_train_opts = OmegaConf.load(yaml_file).opt.train\n",
    "dataset = ConcatDataset([Dataset(**dict(opt)) for opt in data_train_opts])\n",
    "dataloader = DataLoader(dataset, batch_size=8, shuffle=False, num_workers=4)"
   ]
  },
  {
   "cell_type": "code",
   "execution_count": 3,
   "metadata": {},
   "outputs": [
    {
     "name": "stderr",
     "output_type": "stream",
     "text": [
      "  0%|          | 0/2239 [00:00<?, ?it/s]"
     ]
    },
    {
     "name": "stderr",
     "output_type": "stream",
     "text": [
      "100%|██████████| 2239/2239 [00:07<00:00, 295.37it/s]\n"
     ]
    },
    {
     "data": {
      "text/plain": [
       "torch.Size([17906, 120, 22, 2])"
      ]
     },
     "execution_count": 3,
     "metadata": {},
     "output_type": "execute_result"
    }
   ],
   "source": [
    "all_bi01_motion2d = []\n",
    "for batch in tqdm(dataloader, total=len(dataloader)):\n",
    "    all_bi01_motion2d.append(batch['bi01_motion2d'])\n",
    "all_bi01_motion2d = torch.cat(all_bi01_motion2d, dim=0)\n",
    "all_bi01_motion2d.shape"
   ]
  },
  {
   "cell_type": "code",
   "execution_count": 5,
   "metadata": {},
   "outputs": [
    {
     "name": "stdout",
     "output_type": "stream",
     "text": [
      "tensor([0.4985, 0.4615], device='cuda:0') tensor([0.1516, 0.2168], device='cuda:0')\n"
     ]
    }
   ],
   "source": [
    "all_bi01_motion2d = all_bi01_motion2d.cuda()\n",
    "mean = all_bi01_motion2d.reshape(-1, 2).mean(dim=0)\n",
    "std = all_bi01_motion2d.reshape(-1, 2).std(dim=0)\n",
    "print(mean, std)"
   ]
  }
 ],
 "metadata": {
  "kernelspec": {
   "display_name": "hmr4d",
   "language": "python",
   "name": "python3"
  },
  "language_info": {
   "codemirror_mode": {
    "name": "ipython",
    "version": 3
   },
   "file_extension": ".py",
   "mimetype": "text/x-python",
   "name": "python",
   "nbconvert_exporter": "python",
   "pygments_lexer": "ipython3",
   "version": "3.8.18"
  }
 },
 "nbformat": 4,
 "nbformat_minor": 2
}
