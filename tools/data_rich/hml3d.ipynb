{
 "cells": [
  {
   "cell_type": "code",
   "execution_count": 1,
   "metadata": {},
   "outputs": [],
   "source": [
    "%load_ext autoreload\n",
    "%autoreload 2\n",
    "\n",
    "import os\n",
    "import matplotlib.pyplot as plt\n",
    "\n",
    "# Change working directory to project root\n",
    "os.chdir('../../')\n",
    "\n",
    "import torch\n",
    "import numpy as np\n",
    "from pathlib import Path\n",
    "from tqdm import tqdm\n",
    "import json\n",
    "import imageio\n",
    "from hmr4d.utils.wis3d_utils import make_wis3d\n",
    "from hmr4d.utils.wis3d_utils import add_joints22_motion_as_lines\n",
    "from hmr4d.dataset.rich.rich_utils import get_w2az_sahmr, parse_seqname_info\n",
    "from hmr4d.utils.geo_transform import apply_T_on_points"
   ]
  },
  {
   "cell_type": "code",
   "execution_count": 2,
   "metadata": {},
   "outputs": [],
   "source": [
    "wis3d = make_wis3d(name='hml3d')"
   ]
  },
  {
   "cell_type": "code",
   "execution_count": 13,
   "metadata": {},
   "outputs": [
    {
     "name": "stdout",
     "output_type": "stream",
     "text": [
      "torch.Size([4, 120, 22, 3])\n",
      "torch.Size([4, 263, 120])\n",
      "torch.Size([4, 120, 22, 3])\n"
     ]
    }
   ],
   "source": [
    "# Example 1\n",
    "batch_motion = torch.load(\"tmp.pt\")  # (B, F, 22, 3)\n",
    "print(batch_motion.shape)\n",
    "add_joints22_motion_as_lines(batch_motion[2], wis3d, name='motion_example')\n",
    "from hmr4d.model.gmd.utils.hmlvec_utils import convert_motion_to_hmlvec263\n",
    "hmlvec263 = convert_motion_to_hmlvec263(batch_motion)\n",
    "print(hmlvec263.shape)\n",
    "from hmr4d.model.gmd.utils.hmlvec_utils import convert_hmlvec263_to_motion\n",
    "rec_motion = convert_hmlvec263_to_motion(hmlvec263)\n",
    "print(rec_motion.shape)\n",
    "add_joints22_motion_as_lines(rec_motion[2], wis3d, name='rec_motion_example')"
   ]
  },
  {
   "cell_type": "code",
   "execution_count": 8,
   "metadata": {},
   "outputs": [
    {
     "name": "stdout",
     "output_type": "stream",
     "text": [
      "torch.Size([1, 120, 22, 3])\n"
     ]
    }
   ],
   "source": [
    "# # Example 2\n",
    "# init_joints = torch.from_numpy(np.load(\"/home/shenzehong/Code/guided-motion-diffusion/assets/template_joints.npy\")).permute(0,3,1,2)\n",
    "# print(init_joints.shape)  # (B, F, 22, 3)\n",
    "# add_joints22_motion_as_lines(init_joints[0], wis3d, name='joints22_example')\n",
    "# from hmr4d.model.gmd.utils.hmlvec_utils import convert_hmlvec263_to_motion\n",
    "# rec_joints = convert_hmlvec263_to_motion(hmlvec263, abs_3d=True)  # (B, F, 22, 3)\n",
    "# add_joints22_motion_as_lines(rec_joints[0], wis3d, name='joints22_example_recovered')"
   ]
  },
  {
   "cell_type": "code",
   "execution_count": 22,
   "metadata": {},
   "outputs": [],
   "source": []
  },
  {
   "cell_type": "code",
   "execution_count": null,
   "metadata": {},
   "outputs": [],
   "source": []
  }
 ],
 "metadata": {
  "kernelspec": {
   "display_name": "hmr4d",
   "language": "python",
   "name": "python3"
  },
  "language_info": {
   "codemirror_mode": {
    "name": "ipython",
    "version": 3
   },
   "file_extension": ".py",
   "mimetype": "text/x-python",
   "name": "python",
   "nbconvert_exporter": "python",
   "pygments_lexer": "ipython3",
   "version": "3.8.18"
  }
 },
 "nbformat": 4,
 "nbformat_minor": 2
}
