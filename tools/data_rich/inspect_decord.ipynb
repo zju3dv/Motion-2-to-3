{
 "cells": [
  {
   "cell_type": "code",
   "execution_count": 1,
   "metadata": {},
   "outputs": [],
   "source": [
    "%load_ext autoreload\n",
    "%autoreload 2\n",
    "\n",
    "import os\n",
    "import matplotlib.pyplot as plt\n",
    "\n",
    "# Change working directory to project root\n",
    "os.chdir('../../')\n",
    "\n",
    "import torch\n",
    "import numpy as np\n",
    "from pathlib import Path\n",
    "from tqdm import tqdm\n",
    "import json\n",
    "import imageio\n",
    "import decord\n",
    "from hmr4d.utils.wis3d_utils import make_wis3d\n",
    "from hmr4d.utils.wis3d_utils import add_joints22_motion_as_lines\n",
    "from hmr4d.dataset.rich.rich_utils import get_w2az_sahmr, parse_seqname_info\n",
    "from hmr4d.utils.geo_transform import apply_T_on_points"
   ]
  },
  {
   "cell_type": "code",
   "execution_count": 2,
   "metadata": {},
   "outputs": [
    {
     "name": "stdout",
     "output_type": "stream",
     "text": [
      "[291 295 299 303 307 311 315 319 323 327 331 335 339 343 347 351 355 359\n",
      " 363 367 371 375 379 383 387 391 395 399 403 407 411 415 419 423 427 431\n",
      " 435 439 443 447 451 455 459 463 467 471 475 479 483 487 491 495 499 503\n",
      " 507 511 515 519 523 527 531 535 539 543 547 551 555 559 563 567 571 575\n",
      " 579 583 587 591 595 599 603 607 611 615 619 623 627 631 635 639 643 647\n",
      " 651 655 659 663 667 671 675 679 683 687 691 695 699 703 707 711 715 719\n",
      " 723 727 731 735 739 743 747 751 755 759 763 767]\n"
     ]
    }
   ],
   "source": [
    "video_length = 779\n",
    "clip_length = min(video_length, (120 - 1) * 4 + 1)\n",
    "start_idx   = np.random.randint(0, video_length - clip_length)\n",
    "batch_index = np.linspace(start_idx, start_idx + clip_length - 1, 120, dtype=int)\n",
    "print(batch_index)"
   ]
  },
  {
   "cell_type": "code",
   "execution_count": 5,
   "metadata": {},
   "outputs": [
    {
     "name": "stdout",
     "output_type": "stream",
     "text": [
      "0.7969031572341919\n",
      "===\n",
      "1.2989567518234253\n"
     ]
    }
   ],
   "source": [
    "import decord\n",
    "import time\n",
    "\n",
    "decord_readout = \"torch\"  # [\"torch\", \"native\"]\n",
    "decord.bridge.set_bridge(decord_readout)\n",
    "video_reader = decord.VideoReader(\"inputs/RICH/hmr4d_support/video/test/Gym_010_cooking1/cam_01/video.mp4\")\n",
    "\n",
    "for i in range(11):\n",
    "    if i == 1:\n",
    "        start = time.time()\n",
    "    if decord_readout == \"torch\":\n",
    "        pixel_values = video_reader.get_batch(batch_index).permute(0, 3, 1, 2).contiguous()\n",
    "        pixel_values_np = pixel_values.numpy()\n",
    "    else:\n",
    "        pixel_values = torch.from_numpy(video_reader.get_batch(batch_index).asnumpy()).permute(0, 3, 1, 2).contiguous()\n",
    "    if i == 10:\n",
    "        end = time.time()\n",
    "        print((end - start) / 10)\n",
    "\n",
    "print('===')\n",
    "\n",
    "for i in range(11):\n",
    "    if i == 1:\n",
    "        start = time.time()\n",
    "    if decord_readout == \"torch\":\n",
    "        px = []\n",
    "        for f in batch_index:\n",
    "            pixel_values = video_reader[f].permute(2, 0, 1).contiguous()\n",
    "            pixel_values_np = pixel_values.numpy()\n",
    "            px.append(pixel_values_np)\n",
    "        px = np.stack(px)\n",
    "    else:\n",
    "        pixel_values = torch.from_numpy(video_reader.get_batch(batch_index).asnumpy()).permute(0, 3, 1, 2).contiguous()\n",
    "    if i == 10:\n",
    "        end = time.time()\n",
    "        print((end - start) / 10)"
   ]
  }
 ],
 "metadata": {
  "kernelspec": {
   "display_name": "hmr4d",
   "language": "python",
   "name": "python3"
  },
  "language_info": {
   "codemirror_mode": {
    "name": "ipython",
    "version": 3
   },
   "file_extension": ".py",
   "mimetype": "text/x-python",
   "name": "python",
   "nbconvert_exporter": "python",
   "pygments_lexer": "ipython3",
   "version": "3.8.18"
  }
 },
 "nbformat": 4,
 "nbformat_minor": 2
}
